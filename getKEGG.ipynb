{
 "cells": [
  {
   "cell_type": "code",
   "execution_count": null,
   "metadata": {},
   "outputs": [],
   "source": [
    "import os\n",
    "import pandas as pd\n",
    "import numpy as np\n",
    "import json\n",
    "import re"
   ]
  },
  {
   "cell_type": "code",
   "execution_count": null,
   "metadata": {},
   "outputs": [],
   "source": [
    "### JSON to dict\n",
    "with open('/mnt/data1/wangj/GeneSets/hsa00001.json','r') as file:\n",
    "    json_str = file.read()\n",
    "print(json_str)"
   ]
  },
  {
   "cell_type": "code",
   "execution_count": null,
   "metadata": {},
   "outputs": [],
   "source": [
    "data_dict = json.loads(json_str)"
   ]
  },
  {
   "cell_type": "code",
   "execution_count": null,
   "metadata": {},
   "outputs": [],
   "source": [
    "with open('/mnt/data1/wangj/GeneSets/KEGG.gmt','w') as file:\n",
    "    for i in range(0,8):\n",
    "        collection = data_dict['children'][i]['children']\n",
    "        for j in range(len(collection)):\n",
    "            # set_N = re.findall(re.compile(r'\\d+ (.*)'),collection[j]['name'])[0]\n",
    "            subcollection = collection[j]['children']\n",
    "            for k in range(len(subcollection)):\n",
    "                name = subcollection[k]['name']\n",
    "                try:\n",
    "                    KEGG_ID = re.findall(re.compile(r'(hsa\\d+)'),name)[0]\n",
    "                    KEGG_Name = 'KEGG_' + re.findall(re.compile(r'\\d+ (.*) \\['),name)[0]\n",
    "                    file.write(KEGG_Name+'\\t'+KEGG_ID+'\\t')\n",
    "                    genes = subcollection[k]['children']\n",
    "                    for gene in genes:\n",
    "                        file.write(gene['name'].split(' ')[1].replace(';','')+'\\t')\n",
    "                    file.write('\\n')\n",
    "                except:\n",
    "                    pass"
   ]
  },
  {
   "cell_type": "code",
   "execution_count": null,
   "metadata": {},
   "outputs": [],
   "source": [
    "### network plot:KEGG enrichment\n",
    "import networkx as nx\n",
    "import matplotlib.pyplot as plt\n",
    "import seaborn as sns\n",
    "import gseapy as gp\n",
    "import os\n",
    "\n",
    "os.chdir('/mnt/data1/wangj/AgingScore/GSE163530_COVID-19/GSE171668_scnRNA/')"
   ]
  },
  {
   "cell_type": "code",
   "execution_count": null,
   "metadata": {},
   "outputs": [],
   "source": [
    "degs_up = pd.read_csv('Endo_sense_marker.csv',index_col=0)\n",
    "enr_KEGG = gp.enrichr(degs_up.index.tolist(),\n",
    "                    gene_sets='KEGG_2021_Human',\n",
    "                    outdir=None)\n",
    "Enrich_KEGG = enr_KEGG.results \n",
    "Enrich_KEGG = Enrich_KEGG[Enrich_KEGG['Adjusted P-value']<1]\n",
    "Enrich_KEGG.shape"
   ]
  },
  {
   "cell_type": "code",
   "execution_count": null,
   "metadata": {},
   "outputs": [],
   "source": [
    "Enrich_KEGG_select = Enrich_KEGG[(Enrich_KEGG.Term.isin(list(filter(lambda x: 'signaling pathway' in x, Enrich_KEGG.Term))))]\n",
    "Enrich_KEGG_select = Enrich_KEGG_select.sort_values(by='Adjusted P-value',ascending=True,ignore_index=True)\n",
    "Enrich_KEGG_plot = pd.concat([Enrich_KEGG_select[0:10],Enrich_KEGG[(Enrich_KEGG.Term.isin(['Cellular senescence','Coronavirus disease']))]],ignore_index=True)                       "
   ]
  },
  {
   "cell_type": "code",
   "execution_count": null,
   "metadata": {},
   "outputs": [],
   "source": [
    "nodes, edges = gp.enrichment_map(Enrich_KEGG_plot,cutoff = 0.5,top_term = 20)\n",
    "nodes.shape"
   ]
  },
  {
   "cell_type": "code",
   "execution_count": null,
   "metadata": {},
   "outputs": [],
   "source": [
    "G = nx.from_pandas_edgelist(edges,\n",
    "                            source='src_idx',\n",
    "                            target='targ_idx',\n",
    "                            edge_attr=['jaccard_coef', 'overlap_coef', 'overlap_genes'])\n",
    "node_list = sorted(G.nodes())\n",
    "angle = []\n",
    "angle_dict = {}\n",
    "n = nodes.shape[0]\n",
    "for i, node in zip(range(n),node_list):\n",
    "    theta = 2.0*np.pi*i/n\n",
    "    angle.append((np.cos(theta),np.sin(theta)))\n",
    "    angle_dict[node] = theta\n",
    "pos = {}\n",
    "for node_i, node in enumerate(node_list):\n",
    "    pos[node] = angle[node_i]\n",
    "\n",
    "labels = nodes.Term.to_dict()\n",
    "\n",
    "fig, ax = plt.subplots(figsize=(8,8))\n",
    "margin=0.33\n",
    "fig.subplots_adjust(margin, margin, 1.-margin, 1.-margin)\n",
    "ax.axis('equal')\n",
    "\n",
    "edge_weight = nx.get_edge_attributes(G, 'jaccard_coef').values()\n",
    "\n",
    "net = nx.draw(G,\n",
    "              pos=pos,\n",
    "              with_labels=False, \n",
    "              ax=ax,\n",
    "              width=list(map(lambda x: x*10, edge_weight)),\n",
    "              edge_color='#CDDBD4',\n",
    "              node_color=list(nodes['Adjusted P-value']),\n",
    "              node_size=list(nodes.Hits_ratio *3000),\n",
    "              cmap=plt.cm.RdYlBu)\n",
    "description = nx.draw_networkx_labels(G,pos,labels=labels,font_size=15)\n",
    "\n",
    "r = fig.canvas.get_renderer()\n",
    "trans = plt.gca().transData.inverted()\n",
    "for node, t in description.items():\n",
    "    bb = t.get_window_extent(renderer=r)\n",
    "    bbdata = bb.transformed(trans)\n",
    "    radius = 1.2+bbdata.width/2.\n",
    "    position = (radius*np.cos(angle_dict[node]),radius* np.sin(angle_dict[node]))\n",
    "    t.set_position(position)\n",
    "    t.set_rotation(angle_dict[node]*360.0/(2.0*np.pi))\n",
    "    t.set_clip_on(False)\n",
    "sm = plt.cm.ScalarMappable(cmap=plt.cm.RdYlBu, \n",
    "                           norm=plt.Normalize(vmin = nodes['Adjusted P-value'].min(), \n",
    "                                              vmax=nodes['Adjusted P-value'].max()))\n",
    "from mpl_toolkits.axes_grid1.inset_locator import inset_axes\n",
    "ax_col = fig.add_axes([0.1, 0.04, 0.02, 0.15])\n",
    "sns.set(font_scale=1)\n",
    "ax_col.set_title('Adjusted P-value')\n",
    "plt.colorbar(sm,shrink=0.4,cax=ax_col,orientation='vertical')\n",
    "plt.savefig(\"/home/wangjing/wangj/codebase/HUSI/Figures/covid-19/Endo_state_KEGGenrich.png\",dpi = 200,bbox_inches = 'tight')\n",
    "plt.show()"
   ]
  },
  {
   "cell_type": "code",
   "execution_count": 8,
   "metadata": {},
   "outputs": [],
   "source": [
    "### extract tables from pdf\n",
    "import pdfplumber\n",
    "import pandas as pd"
   ]
  },
  {
   "cell_type": "code",
   "execution_count": 22,
   "metadata": {},
   "outputs": [],
   "source": [
    "df = pd.DataFrame()\n",
    "with pdfplumber.open(\"/home/wangjing/wangj/AgingScore/GSE150316_COVID-19_bulk/41467_2020_20139_MOESM1_ESM.pdf\") as pdf:\n",
    "    for i in range(7,11):\n",
    "        page = pdf.pages[i]\n",
    "        table = page.extract_table()\n",
    "        table = pd.DataFrame(table)\n",
    "        df = pd.concat([df,table],ignore_index=True)"
   ]
  },
  {
   "cell_type": "code",
   "execution_count": 23,
   "metadata": {},
   "outputs": [],
   "source": [
    "### remove \\n in the table\n",
    "df = df.replace('\\n','',regex=True)\n",
    "### first row as column names\n",
    "df.columns = df.iloc[0,:]\n",
    "df = df.drop(index=0)\n",
    "df.to_csv(\"/home/wangjing/wangj/AgingScore/GSE150316_COVID-19_bulk/clinical.csv\",index=False)"
   ]
  }
 ],
 "metadata": {
  "kernelspec": {
   "display_name": "base",
   "language": "python",
   "name": "python3"
  },
  "language_info": {
   "codemirror_mode": {
    "name": "ipython",
    "version": 3
   },
   "file_extension": ".py",
   "mimetype": "text/x-python",
   "name": "python",
   "nbconvert_exporter": "python",
   "pygments_lexer": "ipython3",
   "version": "3.8.5"
  },
  "orig_nbformat": 4
 },
 "nbformat": 4,
 "nbformat_minor": 2
}
