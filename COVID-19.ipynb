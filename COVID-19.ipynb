{
 "cells": [
  {
   "cell_type": "markdown",
   "metadata": {},
   "source": [
    "### Appliction in COVID-19 dataset"
   ]
  },
  {
   "cell_type": "code",
   "execution_count": null,
   "metadata": {},
   "outputs": [],
   "source": [
    "import pandas as pd\n",
    "import numpy as np\n",
    "import scanpy as sc\n",
    "import os\n",
    "import matplotlib.pyplot as plt\n",
    "import gseapy as gp\n",
    "import collections as clt\n",
    "import seaborn as sns\n",
    "import matplotlib.pyplot as plt\n",
    "import itertools\n",
    "from statannot import add_stat_annotation\n",
    "import rpy2.robjects as robjects\n",
    "from rpy2.robjects.packages import importr\n",
    "from rpy2.robjects.vectors import FloatVector\n",
    "import collections as clt\n",
    "import pickle\n",
    "from matplotlib.colors import Normalize\n",
    "from matplotlib.cm import ScalarMappable"
   ]
  },
  {
   "cell_type": "markdown",
   "metadata": {},
   "source": [
    "### load raw data"
   ]
  },
  {
   "cell_type": "code",
   "execution_count": null,
   "metadata": {},
   "outputs": [],
   "source": [
    "meta = pd.read_csv('/home/wangjing/wangj/AgingScore/GSE171524_NormalLung/lung_metaData.txt',index_col=0,sep='\\t')\n",
    "### remove 1 row\n",
    "meta = meta.drop(['TYPE'],axis=0)\n",
    "meta"
   ]
  },
  {
   "cell_type": "code",
   "execution_count": null,
   "metadata": {},
   "outputs": [],
   "source": [
    "meta.age.value_counts()"
   ]
  },
  {
   "cell_type": "code",
   "execution_count": null,
   "metadata": {},
   "outputs": [],
   "source": [
    "### read counts\n",
    "files = os.listdir('/home/wangjing/wangj/AgingScore/GSE171524_NormalLung/Counts')\n",
    "counts = pd.DataFrame()\n",
    "cells = []\n",
    "for file in files:\n",
    "    tmp = pd.read_csv('/home/wangjing/wangj/AgingScore/GSE171524_NormalLung/Counts/'+file,index_col=0)\n",
    "    tmp = tmp.T\n",
    "    cells = cells + tmp.index.tolist()\n",
    "    counts = pd.concat([counts,tmp],ignore_index=True)                            "
   ]
  },
  {
   "cell_type": "code",
   "execution_count": null,
   "metadata": {},
   "outputs": [],
   "source": [
    "clt.Counter(meta.index.isin(cells))"
   ]
  },
  {
   "cell_type": "code",
   "execution_count": null,
   "metadata": {},
   "outputs": [],
   "source": [
    "counts.index = cells\n",
    "counts = counts.loc[meta.index,:]"
   ]
  },
  {
   "cell_type": "code",
   "execution_count": null,
   "metadata": {},
   "outputs": [],
   "source": [
    "adata = sc.AnnData(counts)\n",
    "adata.obs = meta\n",
    "adata"
   ]
  },
  {
   "cell_type": "code",
   "execution_count": null,
   "metadata": {},
   "outputs": [],
   "source": [
    "adata.var_names_make_unique()"
   ]
  },
  {
   "cell_type": "markdown",
   "metadata": {},
   "source": [
    "### preprocess data"
   ]
  },
  {
   "cell_type": "code",
   "execution_count": null,
   "metadata": {},
   "outputs": [],
   "source": [
    "sc.pp.filter_cells(adata, min_genes=200)\n",
    "sc.pp.filter_genes(adata, min_cells=3)"
   ]
  },
  {
   "cell_type": "code",
   "execution_count": null,
   "metadata": {},
   "outputs": [],
   "source": [
    "### remove ribosomal and mitochondrial genes\n",
    "adata = adata[:,~adata.var_names.str.startswith('MT-')]\n",
    "adata = adata[:,~adata.var_names.str.startswith('RPL')]\n",
    "adata = adata[:,~adata.var_names.str.startswith('RPS')]\n",
    "adata"
   ]
  },
  {
   "cell_type": "code",
   "execution_count": null,
   "metadata": {},
   "outputs": [],
   "source": [
    "sc.pp.calculate_qc_metrics(adata, percent_top=None, log1p=False, inplace=True)"
   ]
  },
  {
   "cell_type": "code",
   "execution_count": null,
   "metadata": {},
   "outputs": [],
   "source": [
    "sc.pl.violin(adata, keys=['total_counts'],groupby='disease__ontology_label',jitter=0.4, multi_panel=True)"
   ]
  },
  {
   "cell_type": "code",
   "execution_count": null,
   "metadata": {},
   "outputs": [],
   "source": [
    "sc.pp.normalize_total(adata, target_sum=1e4)\n",
    "sc.pp.log1p(adata)"
   ]
  },
  {
   "cell_type": "code",
   "execution_count": null,
   "metadata": {},
   "outputs": [],
   "source": [
    "adata"
   ]
  },
  {
   "cell_type": "code",
   "execution_count": null,
   "metadata": {},
   "outputs": [],
   "source": [
    "adata[adata.obs.disease__ontology_label == 'COVID-19',:].obs.total_counts.hist(bins=50)\n",
    "adata[adata.obs.disease__ontology_label == 'normal',:].obs.total_counts.hist(bins=50)\n",
    "# plt.hist(list(adata[adata.obs.disease__ontology_label == 'COVID-19',:].X.sum(axis=1)))\n",
    "# plt.hist(list(adata[adata.obs.disease__ontology_label == 'normal',:].X.sum(axis=1)))"
   ]
  },
  {
   "cell_type": "code",
   "execution_count": null,
   "metadata": {},
   "outputs": [],
   "source": [
    "adata.obs.disease__ontology_label.value_counts()"
   ]
  },
  {
   "cell_type": "markdown",
   "metadata": {},
   "source": [
    "### calculate hUSI"
   ]
  },
  {
   "cell_type": "code",
   "execution_count": null,
   "metadata": {},
   "outputs": [],
   "source": [
    "def cal_hUSI(adata):\n",
    "    mm_l2 = pd.read_csv('/home/wangjing/wangj/AgingScore/Data/Bulk_TrainModel/mm_l2.csv',index_col=0)\n",
    "    genes = set(mm_l2.index) & set(adata.var_names)\n",
    "    try:\n",
    "        exp = adata[:,list(genes)].X.todense()\n",
    "    except:\n",
    "        exp = adata[:,list(genes)].X\n",
    "    exp = pd.DataFrame(exp,index=adata.obs_names,columns=list(genes))\n",
    "    score = []\n",
    "    for row in range(len(exp)):  \n",
    "        score.append(mm_l2.w[genes].corr(exp.iloc[row],method='spearman'))\n",
    "    return score"
   ]
  },
  {
   "cell_type": "code",
   "execution_count": null,
   "metadata": {},
   "outputs": [],
   "source": [
    "hUSI = cal_hUSI(adata)"
   ]
  },
  {
   "cell_type": "code",
   "execution_count": null,
   "metadata": {},
   "outputs": [],
   "source": [
    "# adata.obs['hUSI'] = hUSI\n",
    "\n",
    "### load tmp result\n",
    "# with open('/mnt/data1/wangj/AgingScore/AgingScorePro/Covid_hUSI.pkl', 'rb') as f:\n",
    "#     df = pickle.load(f)\n",
    "\n",
    "# for c in df.columns:\n",
    "#     adata.obs[c] = df[c]"
   ]
  },
  {
   "cell_type": "code",
   "execution_count": null,
   "metadata": {},
   "outputs": [],
   "source": [
    "df = adata.obs\n",
    "df['Sample'] = pd.Categorical(df.disease__ontology_label,categories=['normal','COVID-19'],ordered=True)"
   ]
  },
  {
   "cell_type": "markdown",
   "metadata": {},
   "source": [
    "### visulization"
   ]
  },
  {
   "cell_type": "code",
   "execution_count": null,
   "metadata": {},
   "outputs": [],
   "source": [
    "sc.pp.highly_variable_genes(adata, min_mean=0.0125, max_mean=3, min_disp=0.5)"
   ]
  },
  {
   "cell_type": "code",
   "execution_count": null,
   "metadata": {},
   "outputs": [],
   "source": [
    "adata.raw = adata\n",
    "adata = adata[:, adata.var.highly_variable]"
   ]
  },
  {
   "cell_type": "code",
   "execution_count": null,
   "metadata": {},
   "outputs": [],
   "source": [
    "adata = adata[:, adata.var.highly_variable]\n",
    "sc.pp.scale(adata, max_value=10)"
   ]
  },
  {
   "cell_type": "code",
   "execution_count": null,
   "metadata": {},
   "outputs": [],
   "source": [
    "sc.tl.pca(adata, svd_solver='arpack')\n",
    "sc.pp.neighbors(adata)"
   ]
  },
  {
   "cell_type": "code",
   "execution_count": null,
   "metadata": {},
   "outputs": [],
   "source": [
    "sc.external.pp.bbknn(adata, batch_key='biosample_id')"
   ]
  },
  {
   "cell_type": "code",
   "execution_count": null,
   "metadata": {},
   "outputs": [],
   "source": [
    "sc.tl.umap(adata)"
   ]
  },
  {
   "cell_type": "code",
   "execution_count": null,
   "metadata": {},
   "outputs": [],
   "source": [
    "sns.set(rc={'figure.figsize':(10,9)},font_scale=1.5)\n",
    "sc.set_figure_params(dpi_save=400)\n",
    "sns.set_style(\"white\")\n",
    "sc.pl.umap(adata, color=['cell_type_main','hUSI'],s=50,palette='tab20',legend_loc= 'on data',save='_Covid19.pdf')"
   ]
  },
  {
   "cell_type": "code",
   "execution_count": null,
   "metadata": {},
   "outputs": [],
   "source": [
    "### boxplot significant: hUSI State Clsuter\n",
    "df = adata.obs\n",
    "sns.set(rc={'figure.figsize':(20,8)},font_scale=3)\n",
    "sns.set_style(\"ticks\")\n",
    "ax = sns.boxplot(hue='Sample',y='hUSI',x = 'cell_type_main',data=df,palette=['#577590','#f94144'])\n",
    "ax.set(xlabel='Cell Type')\n",
    "pairs = []\n",
    "for clu in adata.obs.cell_type_main.unique():\n",
    "    pair = []\n",
    "    for state in adata.obs.Sample.unique():\n",
    "        pair.append((clu,state))\n",
    "    pairs = pairs+list(itertools.combinations(pair, 2))\n",
    "add_stat_annotation(ax, data=adata.obs, x=\"cell_type_main\", y=\"hUSI\",hue='Sample',\n",
    "                    box_pairs=pairs,\n",
    "                    test='Mann-Whitney', text_format='star', loc='inside', verbose=2,\n",
    "                    comparisons_correction = \"bonferroni\",line_offset_to_box=0.02,line_offset=0.01)\n",
    "plt.xticks(rotation=30,ha='right')\n",
    "plt.rc('font',family='Arial', size=15)\n",
    "# plt.savefig(\"/home/wangjing/wangj/codebase/HUSI/Figures/model/Covid_hUSI.pdf\",dpi = 400,bbox_inches = 'tight')"
   ]
  },
  {
   "cell_type": "markdown",
   "metadata": {},
   "source": [
    "### classify cell sate based on hUSI"
   ]
  },
  {
   "cell_type": "code",
   "execution_count": null,
   "metadata": {},
   "outputs": [],
   "source": [
    "robjects.r('set.seed(223)')\n",
    "mclust = importr('mclust')\n",
    "\n",
    "data = adata.obs['hUSI'].tolist()\n",
    "data = [np.log2(1+i)/np.log2(1-i) for i in data]\n",
    "r_data = FloatVector(data)\n",
    "\n",
    "result = mclust.Mclust(r_data,seeds=123)  \n",
    "clusters = result.rx2('classification')\n",
    "clusters = list(clusters)\n",
    "print(clt.Counter(clusters))"
   ]
  },
  {
   "cell_type": "code",
   "execution_count": null,
   "metadata": {},
   "outputs": [],
   "source": [
    "adata.obs['age_class'] = pd.Categorical(['C'+str(int(i)) for i in clusters])"
   ]
  },
  {
   "cell_type": "code",
   "execution_count": null,
   "metadata": {},
   "outputs": [],
   "source": [
    "adata.obs['age_class'].value_counts()"
   ]
  },
  {
   "cell_type": "code",
   "execution_count": null,
   "metadata": {},
   "outputs": [],
   "source": [
    "plt.cm.get_cmap('Reds', 3)(np.linspace(0,1,4))"
   ]
  },
  {
   "cell_type": "code",
   "execution_count": null,
   "metadata": {},
   "outputs": [],
   "source": [
    "### plot hUSI level of age class\n",
    "sns.set(rc={'figure.figsize':(4,7)},font_scale=2,style='white')\n",
    "sns.set_style(\"ticks\")\n",
    "ax = sns.boxplot(x='age_class',y='hUSI',data=adata.obs,palette=plt.cm.get_cmap('Reds', 6)(np.linspace(0.2,1,6)))\n",
    "plt.xlabel('Senescence Class')\n",
    "pairs = [('C2','C1'),('C3','C2'),('C4','C3')]\n",
    "add_stat_annotation(ax, data=adata.obs, x=\"age_class\", y=\"hUSI\",\n",
    "                    box_pairs=pairs,\n",
    "                    test='Mann-Whitney', text_format='star', loc='inside', verbose=2,\n",
    "                    comparisons_correction = \"bonferroni\",line_offset_to_box=0.02,line_offset=0.01)\n",
    "# plt.savefig(\"/home/wangjing/wangj/codebase/HUSI/Figures/model/Covid_hUSI_class.pdf\",dpi = 400,bbox_inches = 'tight')"
   ]
  },
  {
   "cell_type": "markdown",
   "metadata": {},
   "source": [
    "### SASP expression level of C1~C4"
   ]
  },
  {
   "cell_type": "code",
   "execution_count": null,
   "metadata": {},
   "outputs": [],
   "source": [
    "SASP = pd.read_csv('/home/wangjing/wangj/codebase/HUSI/SASP.csv')\n",
    "SASP"
   ]
  },
  {
   "cell_type": "code",
   "execution_count": null,
   "metadata": {},
   "outputs": [],
   "source": [
    "def grouped_obs_mean(adata, group_key, layer=None, gene_symbols=None):\n",
    "    if layer is not None:\n",
    "        getX = lambda x: x.layers[layer]\n",
    "    else:\n",
    "        getX = lambda x: x.X\n",
    "    if gene_symbols is not None:\n",
    "        new_idx = adata.var[idx]\n",
    "    else:\n",
    "        new_idx = adata.var_names\n",
    "\n",
    "    grouped = adata.obs.groupby(group_key)\n",
    "    out = pd.DataFrame(\n",
    "        np.zeros((adata.shape[1], len(grouped)), dtype=np.float64),\n",
    "        columns=list(grouped.groups.keys()),\n",
    "        index=adata.var_names\n",
    "    )\n",
    "\n",
    "    for group, idx in grouped.indices.items():\n",
    "        X = getX(adata[idx])\n",
    "        out[group] = np.ravel(X.mean(axis=0, dtype=np.float64))\n",
    "    return out"
   ]
  },
  {
   "cell_type": "code",
   "execution_count": null,
   "metadata": {},
   "outputs": [],
   "source": [
    "adata_plot = adata.raw.to_adata()\n",
    "adata_plot"
   ]
  },
  {
   "cell_type": "code",
   "execution_count": null,
   "metadata": {},
   "outputs": [],
   "source": [
    "exp = grouped_obs_mean(adata_plot[:,SASP.genes[SASP.genes.isin(adata_plot.var_names)]], 'age_class', layer=None, gene_symbols=None)\n",
    "\n",
    "sns.set(font_scale=1.5)\n",
    "sns.clustermap(exp,cmap='Reds',col_cluster=False,row_cluster=True,figsize=(4,5),standard_scale=0,linecolor='grey',linewidths=0.1, cbar_pos=(0.9, .3, .03, .4),dendrogram_ratio=(.1, 0))\n",
    "# plt.savefig(\"/home/wangjing/wangj/codebase/HUSI/Figures/model/Covid_SASP.pdf\",dpi = 400,bbox_inches = 'tight')"
   ]
  },
  {
   "cell_type": "markdown",
   "metadata": {},
   "source": [
    "### fraction of C1~C4 in normal and COVID-19 samples"
   ]
  },
  {
   "cell_type": "code",
   "execution_count": null,
   "metadata": {},
   "outputs": [],
   "source": [
    "df = adata.obs"
   ]
  },
  {
   "cell_type": "code",
   "execution_count": null,
   "metadata": {},
   "outputs": [],
   "source": [
    "df_plot = df[['age_class','disease__ontology_label']].groupby(['age_class','disease__ontology_label']).size().reset_index().rename(columns={0:'count'})\n",
    "df_plot['Fraction'] = df_plot['count'] / df_plot.groupby(['disease__ontology_label'])['count'].transform('sum')\n",
    "df_plot['Sample'] = pd.Categorical(df_plot['disease__ontology_label'].apply(lambda x: 'COVID-19' if x == 'COVID-19' else 'Normal'),categories=['Normal','COVID-19'],ordered=True)\n",
    "df_plot"
   ]
  },
  {
   "cell_type": "code",
   "execution_count": null,
   "metadata": {},
   "outputs": [],
   "source": [
    "df_plot2 = df[['age_class','hUSI']].groupby('age_class').mean().reset_index().rename(columns={0:'hUSI'})\n",
    "df_plot2"
   ]
  },
  {
   "cell_type": "code",
   "execution_count": null,
   "metadata": {},
   "outputs": [],
   "source": [
    "sns.set(rc={'figure.figsize':(6,7)},font_scale=2)\n",
    "sns.set_style(\"white\")\n",
    "ax1 = sns.barplot(hue='Sample',y='Fraction',x='age_class',data=df_plot,palette=['#577590','#f94144'])\n",
    "plt.xlabel('Senescence Class')\n",
    "ax1.set_ylabel('Fraction', fontsize='20')\n",
    "plt.rc('font',family='Arial', size=15)\n",
    "# plt.savefig(\"/home/wangjing/wangj/codebase/HUSI/Figures/model/Covid_class.pdf\",dpi = 500,bbox_inches = 'tight')"
   ]
  },
  {
   "cell_type": "code",
   "execution_count": null,
   "metadata": {},
   "outputs": [],
   "source": [
    "df = adata.obs\n",
    "df = df[df.disease__ontology_label == 'COVID-19']\n",
    "df_plot = df[['age_class','interval_death_symptoms_onset_days']].groupby(['age_class','interval_death_symptoms_onset_days']).size().reset_index().rename(columns={0:'count'})\n",
    "df_plot['Senescence fraction'] = df_plot['count'] / df_plot.groupby(['interval_death_symptoms_onset_days'])['count'].transform('sum')\n",
    "df_plot = df_plot[df_plot.age_class == 'C4']\n",
    "df_plot['Age'] = adata.obs[['age','interval_death_symptoms_onset_days']].groupby(['interval_death_symptoms_onset_days']).mean().reset_index().rename(columns={0:'age'}).age.values\n",
    "df_plot"
   ]
  },
  {
   "cell_type": "code",
   "execution_count": null,
   "metadata": {},
   "outputs": [],
   "source": [
    "df_plot.dropna(inplace=True)\n",
    "df_plot['Days to Death'] = df_plot['interval_death_symptoms_onset_days']"
   ]
  },
  {
   "cell_type": "markdown",
   "metadata": {},
   "source": [
    "### correlation between days to death and C4 fration in COVID-19 samples"
   ]
  },
  {
   "cell_type": "code",
   "execution_count": null,
   "metadata": {},
   "outputs": [],
   "source": [
    "import scipy.stats as sci\n",
    "sns.set(rc={'figure.figsize':(6,7.5)},font_scale=2)\n",
    "sns.set_style(\"ticks\")\n",
    "ax=sns.scatterplot(x='Days to Death',y='Senescence fraction',data=df_plot,hue='Age',s=500,alpha = 0.8)\n",
    "cor = sci.spearmanr(df_plot['Days to Death'],df_plot['Senescence fraction']).correlation\n",
    "plt.annotate('R = '+str(round(cor,2)), xy=(0.7, 0.02), xycoords='axes fraction',fontsize=20)\n",
    "# plt.savefig(\"/home/wangjing/wangj/codebase/HUSI/Figures/model/Covid_DTD.pdf\",dpi = 500,bbox_inches = 'tight')"
   ]
  },
  {
   "cell_type": "markdown",
   "metadata": {},
   "source": [
    "### fraction difference of C1~C4 (COVID-19 - normal) across all cell subtypes"
   ]
  },
  {
   "cell_type": "code",
   "execution_count": null,
   "metadata": {},
   "outputs": [],
   "source": [
    "df = adata[adata.obs.disease__ontology_label == 'COVID-19'].obs[['cell_type_fine','age_class']].groupby(['cell_type_fine','age_class']).size().reset_index().rename(columns={0:'count'})\n",
    "df['Fraction'] = df['count'] / df.groupby(['cell_type_fine'])['count'].transform('sum')\n",
    "df1 = df\n",
    "df = adata[adata.obs.disease__ontology_label == 'normal'].obs[['cell_type_fine','age_class']].groupby(['cell_type_fine','age_class']).size().reset_index().rename(columns={0:'count'})\n",
    "df['Fraction'] = df['count'] / df.groupby(['cell_type_fine'])['count'].transform('sum')\n",
    "df2= df"
   ]
  },
  {
   "cell_type": "code",
   "execution_count": null,
   "metadata": {},
   "outputs": [],
   "source": [
    "### plot fraction of C1~C4 across all cell subtypes in normal an COVID-19 samples \n",
    "df_plot = df2\n",
    "sns.set_style(\"ticks\")\n",
    "N = len(df1.cell_type_fine.unique())\n",
    "ind = np.arange(N)\n",
    "width = 0.35\n",
    "fig, ax = plt.subplots(figsize=(14, 4))\n",
    "rects1 = ax.bar(ind, df_plot[df_plot.age_class == 'C1'].Fraction, width, color='#577590')\n",
    "rects2 = ax.bar(ind, df_plot[df_plot.age_class == 'C2'].Fraction, width, color='#43aa8b',bottom=df_plot[df_plot.age_class == 'C1'].Fraction)\n",
    "rects3 = ax.bar(ind, df_plot[df_plot.age_class == 'C3'].Fraction, width, color='#f3722c',bottom=df_plot[df_plot.age_class == 'C2'].Fraction)\n",
    "rects4 = ax.bar(ind, df_plot[df_plot.age_class == 'C4'].Fraction, width, color='#f94144',bottom=df_plot[df_plot.age_class == 'C1'].Fraction)\n",
    "ax.set_ylabel('Fraction', fontsize='20')\n",
    "ax.set_xticks(ind)\n",
    "ax.set_xticklabels(df_plot.cell_type_fine.unique(),rotation=90,ha='center')\n",
    "ax.legend((rects1[0], rects2[0],rects3[0],rects2[0]), ('C1','C2','C3','C4'),fontsize=15)\n",
    "# plt.title('COVID-19',fontsize=20)\n",
    "plt.title('Normal',fontsize=20)\n",
    "# plt.savefig(\"/home/wangjing/wangj/codebase/HUSI/Figures/model/Covid_celltype_Fra_N.pdf\",dpi = 500,bbox_inches = 'tight')"
   ]
  },
  {
   "cell_type": "code",
   "execution_count": null,
   "metadata": {},
   "outputs": [],
   "source": [
    "### plot fraction difference of C1~C4 (COVID-19 - normal) across all cell subtypes\n",
    "df['Fraction'] = df1['Fraction'] - df2['Fraction']\n",
    "df['Count'] = df1['count'] + df2['count']\n",
    "### top 15 cell types\n",
    "# celltypes = df[df.age_class == 'C4'].sort_values(by='Fraction',ascending=False).cell_type_fine.head(15).tolist()\n",
    "# celltypes"
   ]
  },
  {
   "cell_type": "code",
   "execution_count": null,
   "metadata": {},
   "outputs": [],
   "source": [
    "df.cell_type_fine = pd.Categorical(df.cell_type_fine,categories=df[df.age_class.isin(['C4'])].sort_values(by='Fraction',ascending=False).cell_type_fine.to_list(),ordered=True)\n",
    "# df = df[df.cell_type_fine.isin(celltypes)]\n",
    "df.head()"
   ]
  },
  {
   "cell_type": "code",
   "execution_count": null,
   "metadata": {},
   "outputs": [],
   "source": [
    "df['Senescence\\nClass'] = df.age_class"
   ]
  },
  {
   "cell_type": "code",
   "execution_count": null,
   "metadata": {},
   "outputs": [],
   "source": [
    "# sns.set(rc={'figure.figsize':(7,7)},font_scale=2)\n",
    "sns.set(rc={'figure.figsize':(7,21)},font_scale=2)\n",
    "sns.set_style(\"ticks\")\n",
    "ax = sns.scatterplot(y='cell_type_fine',\n",
    "                        x='Fraction',\n",
    "                        hue = 'Senescence\\nClass',\n",
    "                        size = 'Count',\n",
    "                        data=df,\n",
    "                        sizes=(500, 1200),\n",
    "                        palette=['#577590','#43aa8b','#f3722c','#f94144'],\n",
    "                        alpha=0.8)\n",
    "### plot yline \n",
    "plt.axvline(x=0.2, color='#6c757d', linestyle='--')\n",
    "plt.axvline(x=-0.2, color='#6c757d', linestyle='--')\n",
    "### out legend\n",
    "# plt.legend(bbox_to_anchor=(1.3,-0.04), loc='lower center')\n",
    "plt.legend(bbox_to_anchor=(1.3,0.3), loc='lower center')\n",
    "plt.xticks(rotation=90)\n",
    "plt.setp(ax.get_yticklabels()[0:5], color='#f94144')\n",
    "plt.xlabel('Fraction Difference')\n",
    "plt.ylabel('Cell subtype')\n",
    "plt.rc('font',family='Arial', size=15)\n",
    "# plt.savefig(\"/home/wangjing/wangj/codebase/HUSI/Figures/model/Covid_Fra_all.pdf\",dpi = 400,bbox_inches = 'tight')"
   ]
  },
  {
   "cell_type": "code",
   "execution_count": null,
   "metadata": {},
   "outputs": [],
   "source": [
    "### save tmp result\n",
    "# with open('/mnt/data1/wangj/AgingScore/AgingScorePro/Covid_hUSI.pkl', 'wb') as f:\n",
    "#     pickle.dump(adata.obs, f)\n",
    "\n",
    "# adata.write('/mnt/data1/wangj/AgingScore/GSE171524_NormalLung/Covid.h5ad')"
   ]
  },
  {
   "cell_type": "markdown",
   "metadata": {},
   "source": [
    "### DEGs (C4 vs C2) of different cell types"
   ]
  },
  {
   "cell_type": "code",
   "execution_count": null,
   "metadata": {},
   "outputs": [],
   "source": [
    "DEGs = {}"
   ]
  },
  {
   "cell_type": "code",
   "execution_count": null,
   "metadata": {},
   "outputs": [],
   "source": [
    "for celltype in ['AT2']:\n",
    "    print(celltype)\n",
    "    adata_sub = adata[adata.obs.cell_type_fine == celltype]\n",
    "    sc.tl.rank_genes_groups(adata_sub, 'age_class', method='wilcoxon',use_raw=True,reference='C2',groups=['C4'])\n",
    "    DEGs[celltype] = sc.get.rank_genes_groups_df(adata_sub,group='C4',key='rank_genes_groups',pval_cutoff=0.05,log2fc_min = None)\n",
    "    DEGs[celltype] = DEGs[celltype].sort_values(by='scores',ascending=False)"
   ]
  },
  {
   "cell_type": "code",
   "execution_count": null,
   "metadata": {},
   "outputs": [],
   "source": [
    "for i in range(len(celltypes)):\n",
    "    print(celltypes[i])\n",
    "    DEG = DEGs[celltypes[i]]\n",
    "    print(DEG.shape)"
   ]
  },
  {
   "cell_type": "code",
   "execution_count": null,
   "metadata": {},
   "outputs": [],
   "source": [
    "DEG = DEGs['AT2']\n",
    "DEG"
   ]
  },
  {
   "cell_type": "markdown",
   "metadata": {},
   "source": [
    "### GSEA"
   ]
  },
  {
   "cell_type": "code",
   "execution_count": null,
   "metadata": {},
   "outputs": [],
   "source": [
    "### choos enrichment gene list\n",
    "# names = gp.get_library_name()\n",
    "# list(filter(lambda x: 'GO' in x, names))"
   ]
  },
  {
   "cell_type": "code",
   "execution_count": null,
   "metadata": {},
   "outputs": [],
   "source": [
    "tmp = DEG[['names','logfoldchanges']]\n",
    "tmp.sort_values(by='logfoldchanges',ascending=False,inplace=True)\n",
    "tmp.set_index('names',inplace=True)\n",
    "tmp "
   ]
  },
  {
   "cell_type": "code",
   "execution_count": null,
   "metadata": {},
   "outputs": [],
   "source": [
    "pre_res = gp.prerank(rnk=tmp,\n",
    "                    #  gene_sets='GO_Biological_Process_2023',\n",
    "                     gene_sets='KEGG_2021_Human',\n",
    "                     threads=4,\n",
    "                     min_size=5,\n",
    "                     max_size=1000,\n",
    "                     permutation_num=1000, \n",
    "                     outdir=None,\n",
    "                     seed=6,\n",
    "                     verbose=True)"
   ]
  },
  {
   "cell_type": "code",
   "execution_count": null,
   "metadata": {},
   "outputs": [],
   "source": [
    "gseaRes = pre_res.res2d\n",
    "gseaRes = gseaRes.sort_values(by='NES',ascending=False)\n",
    "df_plot = gseaRes.head(10)\n",
    "df_plot = df_plot[df_plot['NES']>0]\n",
    "df_plot['Pathway'] = df_plot.Term.apply(lambda x: x.split('(')[0])\n",
    "df_plot"
   ]
  },
  {
   "cell_type": "markdown",
   "metadata": {},
   "source": [
    "### plot GSEA results"
   ]
  },
  {
   "cell_type": "code",
   "execution_count": null,
   "metadata": {},
   "outputs": [],
   "source": [
    "sns.set(rc={'figure.figsize':(10,8)},font_scale=2)\n",
    "# sns.set(rc={'figure.figsize':(8,8)},font_scale=2)\n",
    "sns.set_style(\"ticks\")\n",
    "fdr = df_plot['FDR q-val']\n",
    "colors = plt.cm.OrRd_r(Normalize(vmin=fdr.min(), vmax=0.005)(list(fdr)))  \n",
    "# colors = plt.cm.OrRd_r(Normalize(vmin=fdr.min(), vmax=0.001)(list(fdr)))  \n",
    "ax = sns.barplot(x='NES',y='Pathway',data=df_plot,palette=colors)\n",
    "ax.set(ylabel='GO:BP')\n",
    "# ax.set(ylabel='KEGG')\n",
    "ax.yaxis.set_major_locator(plt.NullLocator())\n",
    "for i in range(10):\n",
    "    plt.text(x=0.03, y=i+0.1,s=df_plot['Pathway'].values[i],fontsize=16,fontdict=dict(color='black'))\n",
    "sm = ScalarMappable(cmap=plt.cm.OrRd_r, norm=Normalize(vmin=fdr.min(), vmax=0.005))\n",
    "# sm = ScalarMappable(cmap=plt.cm.OrRd_r, norm=Normalize(vmin=fdr.min(), vmax=0.001))\n",
    "sm.set_array([])\n",
    "cbar = plt.colorbar(sm, orientation='horizontal',location='top')\n",
    "cbar.set_label('FDR q-val')\n",
    "plt.savefig(\"/home/wangjing/wangj/codebase/HUSI/Figures/model/Covid_AT1_GO.pdf\",dpi = 500,bbox_inches = 'tight')\n",
    "# plt.savefig(\"/home/wangjing/wangj/codebase/HUSI/Figures/model/Covid_AT1_KEGG.pdf\",dpi = 500,bbox_inches = 'tight')"
   ]
  },
  {
   "cell_type": "code",
   "execution_count": null,
   "metadata": {},
   "outputs": [],
   "source": [
    "sns.set(rc={'figure.figsize':(10,10)},font_scale=2)\n",
    "sns.set_style(\"ticks\")\n",
    "colors = plt.cm.OrRd_r(Normalize(vmin=fdr.min(), vmax=0.0006)(list(fdr)))  \n",
    "ax = sns.barplot(x='NES',y='Pathway',data=df_plot,palette=colors)\n",
    "# ax.set(ylabel='GO:BP')\n",
    "ax.set(ylabel='KEGG')\n",
    "ax.yaxis.set_major_locator(plt.NullLocator())\n",
    "for i in range(df_plot.shape[0]):\n",
    "    # if i in [2,3]:\n",
    "    #     plt.text(x=0.03, y=i+0.2,s=df_plot['Pathway'].values[i].replace('Via ','Via\\n'),fontsize=12,fontdict=dict(color='black'))\n",
    "    # elif i in [0,4,5]:\n",
    "    #     plt.text(x=0.03, y=i+0.1,s=df_plot['Pathway'].values[i].replace('Via ','Via\\n'),fontsize=12,fontdict=dict(color='black'))\n",
    "    # else:\n",
    "    plt.text(x=0.03, y=i+0.1,s=df_plot['Pathway'].values[i],fontsize=16,fontdict=dict(color='black'))\n",
    "sm = ScalarMappable(cmap=plt.cm.OrRd_r, norm=Normalize(vmin=fdr.min(), vmax=0.0006))\n",
    "sm.set_array([])\n",
    "cbar = plt.colorbar(sm)\n",
    "cbar.set_label('FDR q-val')\n",
    "plt.title('AT2')\n",
    "# plt.savefig(\"/home/wangjing/wangj/codebase/HUSI/Figures/model/Covid_AT2_GO.pdf\",dpi = 500,bbox_inches = 'tight')\n",
    "plt.savefig(\"/home/wangjing/wangj/codebase/HUSI/Figures/model/Covid_AT2_KEGG.pdf\",dpi = 500,bbox_inches = 'tight')"
   ]
  },
  {
   "cell_type": "code",
   "execution_count": null,
   "metadata": {},
   "outputs": [],
   "source": [
    "sns.set(rc={'figure.figsize':(10,10)},font_scale=2)\n",
    "sns.set_style(\"ticks\")\n",
    "colors = plt.cm.OrRd_r(Normalize(vmin=fdr.min(), vmax=0.2)(list(fdr)))  \n",
    "ax = sns.barplot(x='NES',y='Pathway',data=df_plot,palette=colors)\n",
    "ax.set(ylabel='GO:BP')\n",
    "ax.yaxis.set_major_locator(plt.NullLocator())\n",
    "for i in range(df_plot.shape[0]):\n",
    "    if i in [4,5,6,7]:\n",
    "        plt.text(x=0.03, y=i+0.2,s=df_plot['Pathway'].values[i].replace('Via ','Via\\n'),fontsize=12,fontdict=dict(color='black'))\n",
    "    else:\n",
    "        plt.text(x=0.03, y=i+0.1,s=df_plot['Pathway'].values[i],fontsize=16,fontdict=dict(color='black'))\n",
    "sm = ScalarMappable(cmap=plt.cm.OrRd_r, norm=Normalize(vmin=fdr.min(), vmax=0.2))\n",
    "sm.set_array([])\n",
    "cbar = plt.colorbar(sm)\n",
    "cbar.set_label('FDR q-val')\n",
    "plt.title('Monocyte-derived macrophages')\n",
    "# plt.savefig(\"/home/wangjing/wangj/codebase/HUSI/Figures/model/Covid_MAC_GO.pdf\",dpi = 500,bbox_inches = 'tight')"
   ]
  }
 ],
 "metadata": {
  "kernelspec": {
   "display_name": "Python 3",
   "language": "python",
   "name": "python3"
  },
  "language_info": {
   "codemirror_mode": {
    "name": "ipython",
    "version": 3
   },
   "file_extension": ".py",
   "mimetype": "text/x-python",
   "name": "python",
   "nbconvert_exporter": "python",
   "pygments_lexer": "ipython3",
   "version": "3.8.15"
  }
 },
 "nbformat": 4,
 "nbformat_minor": 2
}
